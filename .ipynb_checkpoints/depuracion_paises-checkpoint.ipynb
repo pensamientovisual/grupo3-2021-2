{
 "cells": [
  {
   "cell_type": "code",
   "execution_count": 2,
   "metadata": {},
   "outputs": [],
   "source": [
    "listapaises = []\n",
    "with open (\"paises.txt\") as pais:\n",
    "    for l in pais:\n",
    "        listapaises.append(l)\n",
    "        "
   ]
  },
  {
   "cell_type": "code",
   "execution_count": 4,
   "metadata": {},
   "outputs": [],
   "source": [
    "listapa = ''.join(listapaises).split(\"\\n\")\n",
    "\n",
    "listapa = listapa[7:1220]\n",
    "\n",
    "i = 0\n",
    "lista =[]\n",
    "while i < len(listapa):\n",
    "    if i % 5 ==0:\n",
    "        lista.append(listapa[i])\n",
    "    i += 1"
   ]
  },
  {
   "cell_type": "code",
   "execution_count": 5,
   "metadata": {},
   "outputs": [],
   "source": [
    "paises = []\n",
    "for l in lista:\n",
    "    l = l.replace(' \"value\": ','')\n",
    "    l = l.replace(',','')\n",
    "    paises.append(l)"
   ]
  },
  {
   "cell_type": "code",
   "execution_count": 7,
   "metadata": {},
   "outputs": [],
   "source": [
    "with open(\"paises_depurados.txt\", \"w\") as p:\n",
    "    for linea in paises:\n",
    "        p.write(\"[\" + linea + \",\" +  \"],\\n\")\n"
   ]
  },
  {
   "cell_type": "code",
   "execution_count": null,
   "metadata": {},
   "outputs": [],
   "source": []
  }
 ],
 "metadata": {
  "kernelspec": {
   "display_name": "Python 2",
   "language": "python",
   "name": "python2"
  },
  "language_info": {
   "codemirror_mode": {
    "name": "ipython",
    "version": 2
   },
   "file_extension": ".py",
   "mimetype": "text/x-python",
   "name": "python",
   "nbconvert_exporter": "python",
   "pygments_lexer": "ipython2",
   "version": "2.7.18"
  }
 },
 "nbformat": 4,
 "nbformat_minor": 2
}
