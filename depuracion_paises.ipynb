{
 "cells": [
  {
   "cell_type": "code",
   "execution_count": 64,
   "metadata": {},
   "outputs": [],
   "source": [
    "listapaises = []\n",
    "with open (\"paises.txt\") as pais:\n",
    "    for l in pais:\n",
    "        listapaises.append(l)\n",
    "        "
   ]
  },
  {
   "cell_type": "code",
   "execution_count": 86,
   "metadata": {},
   "outputs": [
    {
     "name": "stdout",
     "output_type": "stream",
     "text": [
      "['  \"value\": \"Afghanistan\",', '  \"value\": \"\\xc3\\x85land Islands\",', '  \"value\": \"Albania\",', '  \"value\": \"Algeria\",', '  \"value\": \"American Samoa\",', '  \"value\": \"AndorrA\",', '  \"value\": \"Angola\",', '  \"value\": \"Anguilla\",', '  \"value\": \"Antarctica\",', '  \"value\": \"Antigua and Barbuda\",', '  \"value\": \"Argentina\",', '  \"value\": \"Armenia\",', '  \"value\": \"Aruba\",', '  \"value\": \"Australia\",', '  \"value\": \"Austria\",', '  \"value\": \"Azerbaijan\",', '  \"value\": \"Bahamas\",', '  \"value\": \"Bahrain\",', '  \"value\": \"Bangladesh\",', '  \"value\": \"Barbados\",', '  \"value\": \"Belarus\",', '  \"value\": \"Belgium\",', '  \"value\": \"Belize\",', '  \"value\": \"Benin\",', '  \"value\": \"Bermuda\",', '  \"value\": \"Bhutan\",', '  \"value\": \"Bolivia\",', '  \"value\": \"Bosnia and Herzegovina\",', '  \"value\": \"Botswana\",', '  \"value\": \"Bouvet Island\",', '  \"value\": \"Brazil\",', '  \"value\": \"British Indian Ocean Territory\",', '  \"value\": \"Brunei Darussalam\",', '  \"value\": \"Bulgaria\",', '  \"value\": \"Burkina Faso\",', '  \"value\": \"Burundi\",', '  \"value\": \"Cambodia\",', '  \"value\": \"Cameroon\",', '  \"value\": \"Canada\",', '  \"value\": \"Cape Verde\",', '  \"value\": \"Cayman Islands\",', '  \"value\": \"Central African Republic\",', '  \"value\": \"Chad\",', '  \"value\": \"Chile\",', '  \"value\": \"China\",', '  \"value\": \"Christmas Island\",', '  \"value\": \"Cocos (Keeling) Islands\",', '  \"value\": \"Colombia\",', '  \"value\": \"Comoros\",', '  \"value\": \"Congo\",', '  \"value\": \"Congo, The Democratic Republic of the\",', '  \"value\": \"Cook Islands\",', '  \"value\": \"Costa Rica\",', '  \"value\": \"Cote D\\\\\"Ivoire\",', '  \"value\": \"Croatia\",', '  \"value\": \"Cuba\",', '  \"value\": \"Cyprus\",', '  \"value\": \"Czech Republic\",', '  \"value\": \"Denmark\",', '  \"value\": \"Djibouti\",', '  \"value\": \"Dominica\",', '  \"value\": \"Dominican Republic\",', '  \"value\": \"Ecuador\",', '  \"value\": \"Egypt\",', '  \"value\": \"El Salvador\",', '  \"value\": \"Equatorial Guinea\",', '  \"value\": \"Eritrea\",', '  \"value\": \"Estonia\",', '  \"value\": \"Ethiopia\",', '  \"value\": \"Falkland Islands (Malvinas)\",', '  \"value\": \"Faroe Islands\",', '  \"value\": \"Fiji\",', '  \"value\": \"Finland\",', '  \"value\": \"France\",', '  \"value\": \"French Guiana\",', '  \"value\": \"French Polynesia\",', '  \"value\": \"French Southern Territories\",', '  \"value\": \"Gabon\",', '  \"value\": \"Gambia\",', '  \"value\": \"Georgia\",', '  \"value\": \"Germany\",', '  \"value\": \"Ghana\",', '  \"value\": \"Gibraltar\",', '  \"value\": \"Greece\",', '  \"value\": \"Greenland\",', '  \"value\": \"Grenada\",', '  \"value\": \"Guadeloupe\",', '  \"value\": \"Guam\",', '  \"value\": \"Guatemala\",', '  \"value\": \"Guernsey\",', '  \"value\": \"Guinea\",', '  \"value\": \"Guinea-Bissau\",', '  \"value\": \"Guyana\",', '  \"value\": \"Haiti\",', '  \"value\": \"Heard Island and Mcdonald Islands\",', '  \"value\": \"Holy See (Vatican City State)\",', '  \"value\": \"Honduras\",', '  \"value\": \"Hong Kong\",', '  \"value\": \"Hungary\",', '  \"value\": \"Iceland\",', '  \"value\": \"India\",', '  \"value\": \"Indonesia\",', '  \"value\": \"Iran, Islamic Republic Of\",', '  \"value\": \"Iraq\",', '  \"value\": \"Ireland\",', '  \"value\": \"Isle of Man\",', '  \"value\": \"Israel\",', '  \"value\": \"Italy\",', '  \"value\": \"Jamaica\",', '  \"value\": \"Japan\",', '  \"value\": \"Jersey\",', '  \"value\": \"Jordan\",', '  \"value\": \"Kazakhstan\",', '  \"value\": \"Kenya\",', '  \"value\": \"Kiribati\",', '  \"value\": \"Korea, Democratic People\\\\\"S Republic of\",', '  \"value\": \"Korea, Republic of\",', '  \"value\": \"Kuwait\",', '  \"value\": \"Kyrgyzstan\",', '  \"value\": \"Lao People\\\\\"S Democratic Republic\",', '  \"value\": \"Latvia\",', '  \"value\": \"Lebanon\",', '  \"value\": \"Lesotho\",', '  \"value\": \"Liberia\",', '  \"value\": \"Libyan Arab Jamahiriya\",', '  \"value\": \"Liechtenstein\",', '  \"value\": \"Lithuania\",', '  \"value\": \"Luxembourg\",', '  \"value\": \"Macao\",', '  \"value\": \"Macedonia, The Former Yugoslav Republic of\",', '  \"value\": \"Madagascar\",', '  \"value\": \"Malawi\",', '  \"value\": \"Malaysia\",', '  \"value\": \"Maldives\",', '  \"value\": \"Mali\",', '  \"value\": \"Malta\",', '  \"value\": \"Marshall Islands\",', '  \"value\": \"Martinique\",', '  \"value\": \"Mauritania\",', '  \"value\": \"Mauritius\",', '  \"value\": \"Mayotte\",', '  \"value\": \"Mexico\",', '  \"value\": \"Micronesia, Federated States of\",', '  \"value\": \"Moldova, Republic of\",', '  \"value\": \"Monaco\",', '  \"value\": \"Mongolia\",', '  \"value\": \"Montserrat\",', '  \"value\": \"Morocco\",', '  \"value\": \"Mozambique\",', '  \"value\": \"Myanmar\",', '  \"value\": \"Namibia\",', '  \"value\": \"Nauru\",', '  \"value\": \"Nepal\",', '  \"value\": \"Netherlands\",', '  \"value\": \"Netherlands Antilles\",', '  \"value\": \"New Caledonia\",', '  \"value\": \"New Zealand\",', '  \"value\": \"Nicaragua\",', '  \"value\": \"Niger\",', '  \"value\": \"Nigeria\",', '  \"value\": \"Niue\",', '  \"value\": \"Norfolk Island\",', '  \"value\": \"Northern Mariana Islands\",', '  \"value\": \"Norway\",', '  \"value\": \"Oman\",', '  \"value\": \"Pakistan\",', '  \"value\": \"Palau\",', '  \"value\": \"Palestinian Territory, Occupied\",', '  \"value\": \"Panama\",', '  \"value\": \"Papua New Guinea\",', '  \"value\": \"Paraguay\",', '  \"value\": \"Peru\",', '  \"value\": \"Philippines\",', '  \"value\": \"Pitcairn\",', '  \"value\": \"Poland\",', '  \"value\": \"Portugal\",', '  \"value\": \"Puerto Rico\",', '  \"value\": \"Qatar\",', '  \"value\": \"Reunion\",', '  \"value\": \"Romania\",', '  \"value\": \"Russia\",', '  \"value\": \"RWANDA\",', '  \"value\": \"Saint Helena\",', '  \"value\": \"Saint Kitts and Nevis\",', '  \"value\": \"Saint Lucia\",', '  \"value\": \"Saint Pierre and Miquelon\",', '  \"value\": \"Saint Vincent and the Grenadines\",', '  \"value\": \"Samoa\",', '  \"value\": \"San Marino\",', '  \"value\": \"Sao Tome and Principe\",', '  \"value\": \"Saudi Arabia\",', '  \"value\": \"Senegal\",', '  \"value\": \"Serbia and Montenegro\",', '  \"value\": \"Seychelles\",', '  \"value\": \"Sierra Leone\",', '  \"value\": \"Singapore\",', '  \"value\": \"Slovakia\",', '  \"value\": \"Slovenia\",', '  \"value\": \"Solomon Islands\",', '  \"value\": \"Somalia\",', '  \"value\": \"South Africa\",', '  \"value\": \"South Georgia and the South Sandwich Islands\",', '  \"value\": \"Spain\",', '  \"value\": \"Sri Lanka\",', '  \"value\": \"Sudan\",', '  \"value\": \"Suriname\",', '  \"value\": \"Svalbard and Jan Mayen\",', '  \"value\": \"Swaziland\",', '  \"value\": \"Sweden\",', '  \"value\": \"Switzerland\",', '  \"value\": \"Syrian Arab Republic\",', '  \"value\": \"Taiwan, Province of China\",', '  \"value\": \"Tajikistan\",', '  \"value\": \"Tanzania, United Republic of\",', '  \"value\": \"Thailand\",', '  \"value\": \"Timor-Leste\",', '  \"value\": \"Togo\",', '  \"value\": \"Tokelau\",', '  \"value\": \"Tonga\",', '  \"value\": \"Trinidad and Tobago\",', '  \"value\": \"Tunisia\",', '  \"value\": \"Turkey\",', '  \"value\": \"Turkmenistan\",', '  \"value\": \"Turks and Caicos Islands\",', '  \"value\": \"Tuvalu\",', '  \"value\": \"Uganda\",', '  \"value\": \"Ukraine\",', '  \"value\": \"United Arab Emirates\",', '  \"value\": \"United Kingdom\",', '  \"value\": \"United States\",', '  \"value\": \"United States Minor Outlying Islands\",', '  \"value\": \"Uruguay\",', '  \"value\": \"Uzbekistan\",', '  \"value\": \"Vanuatu\",', '  \"value\": \"Venezuela\",', '  \"value\": \"Viet Nam\",', '  \"value\": \"Virgin Islands, British\",', '  \"value\": \"Virgin Islands, U.S.\",', '  \"value\": \"Wallis and Futuna\",', '  \"value\": \"Western Sahara\",', '  \"value\": \"Yemen\",', '  \"value\": \"Zambia\",', '  \"value\": \"Zimbabwe\",']\n"
     ]
    }
   ],
   "source": [
    "listapa = ''.join(listapaises).split(\"\\n\")\n",
    "\n",
    "listapa = listapa[7:1220]\n",
    "\n",
    "i = 0\n",
    "lista =[]\n",
    "while i < len(listapa):\n",
    "    if i % 5 ==0:\n",
    "        lista.append(listapa[i])\n",
    "    i += 1\n",
    "    \n",
    "print(lista)"
   ]
  },
  {
   "cell_type": "code",
   "execution_count": 88,
   "metadata": {},
   "outputs": [
    {
     "name": "stdout",
     "output_type": "stream",
     "text": [
      "[' \"Afghanistan\"', ' \"\\xc3\\x85land Islands\"', ' \"Albania\"', ' \"Algeria\"', ' \"American Samoa\"']\n"
     ]
    }
   ],
   "source": [
    "paises = []\n",
    "for l in lista:\n",
    "    l = l.replace(' \"value\": ','')\n",
    "    l = l.replace(',','')\n",
    "    paises.append(l)\n",
    "print(paises[:5])"
   ]
  },
  {
   "cell_type": "code",
   "execution_count": 89,
   "metadata": {},
   "outputs": [
    {
     "name": "stdout",
     "output_type": "stream",
     "text": [
      "[' \"Afghanistan\"', ' \"\\xc3\\x85land Islands\"', ' \"Albania\"', ' \"Algeria\"', ' \"American Samoa\"', ' \"AndorrA\"', ' \"Angola\"', ' \"Anguilla\"', ' \"Antarctica\"', ' \"Antigua and Barbuda\"', ' \"Argentina\"', ' \"Armenia\"', ' \"Aruba\"', ' \"Australia\"', ' \"Austria\"', ' \"Azerbaijan\"', ' \"Bahamas\"', ' \"Bahrain\"', ' \"Bangladesh\"', ' \"Barbados\"', ' \"Belarus\"', ' \"Belgium\"', ' \"Belize\"', ' \"Benin\"', ' \"Bermuda\"', ' \"Bhutan\"', ' \"Bolivia\"', ' \"Bosnia and Herzegovina\"', ' \"Botswana\"', ' \"Bouvet Island\"', ' \"Brazil\"', ' \"British Indian Ocean Territory\"', ' \"Brunei Darussalam\"', ' \"Bulgaria\"', ' \"Burkina Faso\"', ' \"Burundi\"', ' \"Cambodia\"', ' \"Cameroon\"', ' \"Canada\"', ' \"Cape Verde\"', ' \"Cayman Islands\"', ' \"Central African Republic\"', ' \"Chad\"', ' \"Chile\"', ' \"China\"', ' \"Christmas Island\"', ' \"Cocos (Keeling) Islands\"', ' \"Colombia\"', ' \"Comoros\"', ' \"Congo\"', ' \"Congo The Democratic Republic of the\"', ' \"Cook Islands\"', ' \"Costa Rica\"', ' \"Cote D\\\\\"Ivoire\"', ' \"Croatia\"', ' \"Cuba\"', ' \"Cyprus\"', ' \"Czech Republic\"', ' \"Denmark\"', ' \"Djibouti\"', ' \"Dominica\"', ' \"Dominican Republic\"', ' \"Ecuador\"', ' \"Egypt\"', ' \"El Salvador\"', ' \"Equatorial Guinea\"', ' \"Eritrea\"', ' \"Estonia\"', ' \"Ethiopia\"', ' \"Falkland Islands (Malvinas)\"', ' \"Faroe Islands\"', ' \"Fiji\"', ' \"Finland\"', ' \"France\"', ' \"French Guiana\"', ' \"French Polynesia\"', ' \"French Southern Territories\"', ' \"Gabon\"', ' \"Gambia\"', ' \"Georgia\"', ' \"Germany\"', ' \"Ghana\"', ' \"Gibraltar\"', ' \"Greece\"', ' \"Greenland\"', ' \"Grenada\"', ' \"Guadeloupe\"', ' \"Guam\"', ' \"Guatemala\"', ' \"Guernsey\"', ' \"Guinea\"', ' \"Guinea-Bissau\"', ' \"Guyana\"', ' \"Haiti\"', ' \"Heard Island and Mcdonald Islands\"', ' \"Holy See (Vatican City State)\"', ' \"Honduras\"', ' \"Hong Kong\"', ' \"Hungary\"', ' \"Iceland\"', ' \"India\"', ' \"Indonesia\"', ' \"Iran Islamic Republic Of\"', ' \"Iraq\"', ' \"Ireland\"', ' \"Isle of Man\"', ' \"Israel\"', ' \"Italy\"', ' \"Jamaica\"', ' \"Japan\"', ' \"Jersey\"', ' \"Jordan\"', ' \"Kazakhstan\"', ' \"Kenya\"', ' \"Kiribati\"', ' \"Korea Democratic People\\\\\"S Republic of\"', ' \"Korea Republic of\"', ' \"Kuwait\"', ' \"Kyrgyzstan\"', ' \"Lao People\\\\\"S Democratic Republic\"', ' \"Latvia\"', ' \"Lebanon\"', ' \"Lesotho\"', ' \"Liberia\"', ' \"Libyan Arab Jamahiriya\"', ' \"Liechtenstein\"', ' \"Lithuania\"', ' \"Luxembourg\"', ' \"Macao\"', ' \"Macedonia The Former Yugoslav Republic of\"', ' \"Madagascar\"', ' \"Malawi\"', ' \"Malaysia\"', ' \"Maldives\"', ' \"Mali\"', ' \"Malta\"', ' \"Marshall Islands\"', ' \"Martinique\"', ' \"Mauritania\"', ' \"Mauritius\"', ' \"Mayotte\"', ' \"Mexico\"', ' \"Micronesia Federated States of\"', ' \"Moldova Republic of\"', ' \"Monaco\"', ' \"Mongolia\"', ' \"Montserrat\"', ' \"Morocco\"', ' \"Mozambique\"', ' \"Myanmar\"', ' \"Namibia\"', ' \"Nauru\"', ' \"Nepal\"', ' \"Netherlands\"', ' \"Netherlands Antilles\"', ' \"New Caledonia\"', ' \"New Zealand\"', ' \"Nicaragua\"', ' \"Niger\"', ' \"Nigeria\"', ' \"Niue\"', ' \"Norfolk Island\"', ' \"Northern Mariana Islands\"', ' \"Norway\"', ' \"Oman\"', ' \"Pakistan\"', ' \"Palau\"', ' \"Palestinian Territory Occupied\"', ' \"Panama\"', ' \"Papua New Guinea\"', ' \"Paraguay\"', ' \"Peru\"', ' \"Philippines\"', ' \"Pitcairn\"', ' \"Poland\"', ' \"Portugal\"', ' \"Puerto Rico\"', ' \"Qatar\"', ' \"Reunion\"', ' \"Romania\"', ' \"Russia\"', ' \"RWANDA\"', ' \"Saint Helena\"', ' \"Saint Kitts and Nevis\"', ' \"Saint Lucia\"', ' \"Saint Pierre and Miquelon\"', ' \"Saint Vincent and the Grenadines\"', ' \"Samoa\"', ' \"San Marino\"', ' \"Sao Tome and Principe\"', ' \"Saudi Arabia\"', ' \"Senegal\"', ' \"Serbia and Montenegro\"', ' \"Seychelles\"', ' \"Sierra Leone\"', ' \"Singapore\"', ' \"Slovakia\"', ' \"Slovenia\"', ' \"Solomon Islands\"', ' \"Somalia\"', ' \"South Africa\"', ' \"South Georgia and the South Sandwich Islands\"', ' \"Spain\"', ' \"Sri Lanka\"', ' \"Sudan\"', ' \"Suriname\"', ' \"Svalbard and Jan Mayen\"', ' \"Swaziland\"', ' \"Sweden\"', ' \"Switzerland\"', ' \"Syrian Arab Republic\"', ' \"Taiwan Province of China\"', ' \"Tajikistan\"', ' \"Tanzania United Republic of\"', ' \"Thailand\"', ' \"Timor-Leste\"', ' \"Togo\"', ' \"Tokelau\"', ' \"Tonga\"', ' \"Trinidad and Tobago\"', ' \"Tunisia\"', ' \"Turkey\"', ' \"Turkmenistan\"', ' \"Turks and Caicos Islands\"', ' \"Tuvalu\"', ' \"Uganda\"', ' \"Ukraine\"', ' \"United Arab Emirates\"', ' \"United Kingdom\"', ' \"United States\"', ' \"United States Minor Outlying Islands\"', ' \"Uruguay\"', ' \"Uzbekistan\"', ' \"Vanuatu\"', ' \"Venezuela\"', ' \"Viet Nam\"', ' \"Virgin Islands British\"', ' \"Virgin Islands U.S.\"', ' \"Wallis and Futuna\"', ' \"Western Sahara\"', ' \"Yemen\"', ' \"Zambia\"', ' \"Zimbabwe\"']\n"
     ]
    }
   ],
   "source": [
    "print(paises)"
   ]
  },
  {
   "cell_type": "code",
   "execution_count": 95,
   "metadata": {},
   "outputs": [],
   "source": [
    "import random\n",
    "\n",
    "with open(\"paises_depurados.txt\", \"w\") as p:\n",
    "    for linea in paises:\n",
    "        p.write(\"[\" + linea + \",\" + str(random.randint(100, 800)) + \"],\\n\")\n"
   ]
  }
 ],
 "metadata": {
  "kernelspec": {
   "display_name": "Python 2",
   "language": "python",
   "name": "python2"
  },
  "language_info": {
   "codemirror_mode": {
    "name": "ipython",
    "version": 2
   },
   "file_extension": ".py",
   "mimetype": "text/x-python",
   "name": "python",
   "nbconvert_exporter": "python",
   "pygments_lexer": "ipython2",
   "version": "2.7.18"
  }
 },
 "nbformat": 4,
 "nbformat_minor": 2
}
